{
 "cells": [
  {
   "cell_type": "code",
   "execution_count": 1,
   "id": "130986b4",
   "metadata": {},
   "outputs": [],
   "source": [
    "# import libraries\n",
    "import matplotlib.pyplot as plt\n",
    "import numpy as np\n",
    "import pandas as pd \n",
    "import seaborn as sns"
   ]
  },
  {
   "cell_type": "markdown",
   "id": "7df6b2cf",
   "metadata": {},
   "source": [
    "### Gathering data"
   ]
  },
  {
   "cell_type": "code",
   "execution_count": 2,
   "id": "ec461613",
   "metadata": {},
   "outputs": [
    {
     "data": {
      "text/html": [
       "<div>\n",
       "<style scoped>\n",
       "    .dataframe tbody tr th:only-of-type {\n",
       "        vertical-align: middle;\n",
       "    }\n",
       "\n",
       "    .dataframe tbody tr th {\n",
       "        vertical-align: top;\n",
       "    }\n",
       "\n",
       "    .dataframe thead th {\n",
       "        text-align: right;\n",
       "    }\n",
       "</style>\n",
       "<table border=\"1\" class=\"dataframe\">\n",
       "  <thead>\n",
       "    <tr style=\"text-align: right;\">\n",
       "      <th></th>\n",
       "      <th>Unnamed: 0</th>\n",
       "      <th>job_title</th>\n",
       "      <th>job_type</th>\n",
       "      <th>experience_level</th>\n",
       "      <th>location</th>\n",
       "      <th>salary_currency</th>\n",
       "      <th>salary</th>\n",
       "    </tr>\n",
       "  </thead>\n",
       "  <tbody>\n",
       "    <tr>\n",
       "      <th>0</th>\n",
       "      <td>0</td>\n",
       "      <td>Data scientist</td>\n",
       "      <td>Full Time</td>\n",
       "      <td>Senior</td>\n",
       "      <td>New York City</td>\n",
       "      <td>USD</td>\n",
       "      <td>149000</td>\n",
       "    </tr>\n",
       "    <tr>\n",
       "      <th>1</th>\n",
       "      <td>2</td>\n",
       "      <td>Data scientist</td>\n",
       "      <td>Full Time</td>\n",
       "      <td>Senior</td>\n",
       "      <td>Boston</td>\n",
       "      <td>USD</td>\n",
       "      <td>120000</td>\n",
       "    </tr>\n",
       "    <tr>\n",
       "      <th>2</th>\n",
       "      <td>3</td>\n",
       "      <td>Data scientist</td>\n",
       "      <td>Full Time</td>\n",
       "      <td>Senior</td>\n",
       "      <td>London</td>\n",
       "      <td>USD</td>\n",
       "      <td>68000</td>\n",
       "    </tr>\n",
       "    <tr>\n",
       "      <th>3</th>\n",
       "      <td>4</td>\n",
       "      <td>Data scientist</td>\n",
       "      <td>Full Time</td>\n",
       "      <td>Senior</td>\n",
       "      <td>Boston</td>\n",
       "      <td>USD</td>\n",
       "      <td>120000</td>\n",
       "    </tr>\n",
       "    <tr>\n",
       "      <th>4</th>\n",
       "      <td>5</td>\n",
       "      <td>Data scientist</td>\n",
       "      <td>Full Time</td>\n",
       "      <td>Senior</td>\n",
       "      <td>New York City</td>\n",
       "      <td>USD</td>\n",
       "      <td>149000</td>\n",
       "    </tr>\n",
       "  </tbody>\n",
       "</table>\n",
       "</div>"
      ],
      "text/plain": [
       "   Unnamed: 0       job_title   job_type experience_level       location  \\\n",
       "0           0  Data scientist  Full Time           Senior  New York City   \n",
       "1           2  Data scientist  Full Time           Senior         Boston   \n",
       "2           3  Data scientist  Full Time           Senior         London   \n",
       "3           4  Data scientist  Full Time           Senior         Boston   \n",
       "4           5  Data scientist  Full Time           Senior  New York City   \n",
       "\n",
       "  salary_currency  salary  \n",
       "0             USD  149000  \n",
       "1             USD  120000  \n",
       "2             USD   68000  \n",
       "3             USD  120000  \n",
       "4             USD  149000  "
      ]
     },
     "execution_count": 2,
     "metadata": {},
     "output_type": "execute_result"
    }
   ],
   "source": [
    "df = pd.read_csv('datascience_salaries.csv')\n",
    "df.head()"
   ]
  },
  {
   "cell_type": "markdown",
   "id": "905eb198",
   "metadata": {},
   "source": [
    "### Exploring the data for data understanding"
   ]
  },
  {
   "cell_type": "code",
   "execution_count": 44,
   "id": "d14f1526",
   "metadata": {},
   "outputs": [
    {
     "name": "stdout",
     "output_type": "stream",
     "text": [
      "There are 1171 rows and 5 columns in 'Data science job salary' dataset\n"
     ]
    }
   ],
   "source": [
    "print(\"There are %d rows and %d columns in 'Data science job salary' dataset\"%(df.shape[0],df.shape[1]))"
   ]
  },
  {
   "cell_type": "code",
   "execution_count": 4,
   "id": "2a2c3607",
   "metadata": {},
   "outputs": [
    {
     "name": "stdout",
     "output_type": "stream",
     "text": [
      "<class 'pandas.core.frame.DataFrame'>\n",
      "RangeIndex: 1171 entries, 0 to 1170\n",
      "Data columns (total 7 columns):\n",
      " #   Column            Non-Null Count  Dtype \n",
      "---  ------            --------------  ----- \n",
      " 0   Unnamed: 0        1171 non-null   int64 \n",
      " 1   job_title         1171 non-null   object\n",
      " 2   job_type          1171 non-null   object\n",
      " 3   experience_level  1171 non-null   object\n",
      " 4   location          1171 non-null   object\n",
      " 5   salary_currency   1171 non-null   object\n",
      " 6   salary            1171 non-null   int64 \n",
      "dtypes: int64(2), object(5)\n",
      "memory usage: 64.2+ KB\n"
     ]
    }
   ],
   "source": [
    "df.info()"
   ]
  },
  {
   "cell_type": "code",
   "execution_count": 5,
   "id": "67a72206",
   "metadata": {},
   "outputs": [
    {
     "data": {
      "text/plain": [
       "Unnamed: 0          0\n",
       "job_title           0\n",
       "job_type            0\n",
       "experience_level    0\n",
       "location            0\n",
       "salary_currency     0\n",
       "salary              0\n",
       "dtype: int64"
      ]
     },
     "execution_count": 5,
     "metadata": {},
     "output_type": "execute_result"
    }
   ],
   "source": [
    "df.isnull().sum()"
   ]
  },
  {
   "cell_type": "markdown",
   "id": "672a2623",
   "metadata": {},
   "source": [
    "All columns have no missing values\n",
    "\n"
   ]
  },
  {
   "cell_type": "markdown",
   "id": "dec65cec",
   "metadata": {},
   "source": [
    "What are the columns with categorical values?"
   ]
  },
  {
   "cell_type": "code",
   "execution_count": 10,
   "id": "4de94a59",
   "metadata": {},
   "outputs": [
    {
     "data": {
      "text/plain": [
       "Index(['job_title', 'job_type', 'experience_level', 'location',\n",
       "       'salary_currency'],\n",
       "      dtype='object')"
      ]
     },
     "execution_count": 10,
     "metadata": {},
     "output_type": "execute_result"
    }
   ],
   "source": [
    "df.select_dtypes(include=['object']).columns"
   ]
  },
  {
   "cell_type": "markdown",
   "id": "8c05bca7",
   "metadata": {},
   "source": [
    "let us dive more into each one of these columns and try to understand its possible values and how are these values distributed"
   ]
  },
  {
   "cell_type": "markdown",
   "id": "e1ead06c",
   "metadata": {},
   "source": [
    "#### job_title"
   ]
  },
  {
   "cell_type": "code",
   "execution_count": 11,
   "id": "66a361c2",
   "metadata": {},
   "outputs": [
    {
     "data": {
      "text/plain": [
       "Text(0.5, 1.0, 'The job title distribution')"
      ]
     },
     "execution_count": 11,
     "metadata": {},
     "output_type": "execute_result"
    },
    {
     "data": {
      "image/png": "[encoded data removed]",
      "text/plain": [
       "<Figure size 648x432 with 1 Axes>"
      ]
     },
     "metadata": {
      "needs_background": "light"
     },
     "output_type": "display_data"
    }
   ],
   "source": [
    "plt.figure(figsize=(9,6))\n",
    "title_group = df[\"job_title\"].value_counts()\n",
    "plt.bar(height=title_group.values,x=title_group.index)\n",
    "plt.title(\"The job title distribution\",fontsize = 18, weight = 'bold')"
   ]
  },
  {
   "cell_type": "markdown",
   "id": "44cb6253",
   "metadata": {},
   "source": [
    "#### job_type"
   ]
  },
  {
   "cell_type": "code",
   "execution_count": 13,
   "id": "395daedd",
   "metadata": {},
   "outputs": [
    {
     "data": {
      "text/plain": [
       "Text(0.5, 1.0, 'The job type distribution')"
      ]
     },
     "execution_count": 13,
     "metadata": {},
     "output_type": "execute_result"
    },
    {
     "data": {
      "image/png": "[encoded data removed]",
      "text/plain": [
       "<Figure size 648x432 with 1 Axes>"
      ]
     },
     "metadata": {
      "needs_background": "light"
     },
     "output_type": "display_data"
    }
   ],
   "source": [
    "plt.figure(figsize=(9,6))\n",
    "type_group = df[\"job_type\"].value_counts()\n",
    "plt.bar(height=type_group.values,x=type_group.index)\n",
    "plt.title(\"The job type distribution\",fontsize = 18, weight = 'bold')"
   ]
  },
  {
   "cell_type": "markdown",
   "id": "e3292f7c",
   "metadata": {},
   "source": [
    "#### experience_level"
   ]
  },
  {
   "cell_type": "code",
   "execution_count": 15,
   "id": "3e417e6c",
   "metadata": {},
   "outputs": [
    {
     "data": {
      "text/plain": [
       "Text(0.5, 1.0, 'The experience level distribution')"
      ]
     },
     "execution_count": 15,
     "metadata": {},
     "output_type": "execute_result"
    },
    {
     "data": {
      "image/png": "[encoded data removed]",
      "text/plain": [
       "<Figure size 648x432 with 1 Axes>"
      ]
     },
     "metadata": {
      "needs_background": "light"
     },
     "output_type": "display_data"
    }
   ],
   "source": [
    "plt.figure(figsize=(9,6))\n",
    "experience_level_group = df[\"experience_level\"].value_counts()\n",
    "plt.bar(height=experience_level_group.values,x=experience_level_group.index)\n",
    "plt.title(\"The experience level distribution\",fontsize = 18, weight = 'bold')"
   ]
  },
  {
   "cell_type": "markdown",
   "id": "8cfa7555",
   "metadata": {},
   "source": [
    "#### location"
   ]
  },
  {
   "cell_type": "code",
   "execution_count": 17,
   "id": "0b27caf4",
   "metadata": {},
   "outputs": [
    {
     "data": {
      "text/plain": [
       "Text(0.5, 1.0, 'The location distribution')"
      ]
     },
     "execution_count": 17,
     "metadata": {},
     "output_type": "execute_result"
    },
    {
     "data": {
      "image/png": "[encoded data removed]",
      "text/plain": [
       "<Figure size 648x432 with 1 Axes>"
      ]
     },
     "metadata": {
      "needs_background": "light"
     },
     "output_type": "display_data"
    }
   ],
   "source": [
    "plt.figure(figsize=(9,6))\n",
    "location_group = df[\"location\"].value_counts()\n",
    "plt.bar(height=location_group.values,x=location_group.index)\n",
    "plt.title(\"The location distribution\",fontsize = 18, weight = 'bold')"
   ]
  },
  {
   "cell_type": "markdown",
   "id": "92cc4b7d",
   "metadata": {},
   "source": [
    "We noticed that the location column has so many categories, it is hard to visulize all of them so let us try to see some categories"
   ]
  },
  {
   "cell_type": "code",
   "execution_count": 18,
   "id": "51050727",
   "metadata": {},
   "outputs": [
    {
     "data": {
      "text/plain": [
       "London           75\n",
       "Remote           50\n",
       "San Francisco    43\n",
       "Bengaluru        34\n",
       "Paris            33\n",
       "New York City    32\n",
       "Bangkok          32\n",
       "Berlin           28\n",
       "United States    26\n",
       "Toronto          19\n",
       "Brooklyn         17\n",
       "Boston           16\n",
       "Seattle          13\n",
       "Barcelona        13\n",
       "Brampton         12\n",
       "Singapore        11\n",
       "Santa Clara      11\n",
       "Roppongi         10\n",
       "Mountain View    10\n",
       "Warsaw           10\n",
       "Name: location, dtype: int64"
      ]
     },
     "execution_count": 18,
     "metadata": {},
     "output_type": "execute_result"
    }
   ],
   "source": [
    "head_locations = df['location'].value_counts().head(20)\n",
    "head_locations"
   ]
  },
  {
   "cell_type": "code",
   "execution_count": 19,
   "id": "2407fbd5",
   "metadata": {},
   "outputs": [
    {
     "data": {
      "text/plain": [
       "Text(0.5, 1.0, 'Location distribution sample')"
      ]
     },
     "execution_count": 19,
     "metadata": {},
     "output_type": "execute_result"
    },
    {
     "data": {
      "image/png": "[encoded data removed]",
      "text/plain": [
       "<Figure size 648x432 with 1 Axes>"
      ]
     },
     "metadata": {
      "needs_background": "light"
     },
     "output_type": "display_data"
    }
   ],
   "source": [
    "plt.figure(figsize=(9,6))\n",
    "plt.xticks(\n",
    "    rotation=90, \n",
    "    horizontalalignment='right',\n",
    "    fontweight='light')\n",
    "plt.bar(height=head_locations.values,x=head_locations.index)\n",
    "plt.title(\"Location distribution sample\",fontsize = 18, weight = 'bold')"
   ]
  },
  {
   "cell_type": "markdown",
   "id": "72d93dce",
   "metadata": {},
   "source": [
    "#### salary_currency"
   ]
  },
  {
   "cell_type": "code",
   "execution_count": 20,
   "id": "e767cf1e",
   "metadata": {},
   "outputs": [
    {
     "data": {
      "text/plain": [
       "Text(0.5, 1.0, 'The salary currency distribution')"
      ]
     },
     "execution_count": 20,
     "metadata": {},
     "output_type": "execute_result"
    },
    {
     "data": {
      "image/png": "[encoded data removed]",
      "text/plain": [
       "<Figure size 648x432 with 1 Axes>"
      ]
     },
     "metadata": {
      "needs_background": "light"
     },
     "output_type": "display_data"
    }
   ],
   "source": [
    "plt.figure(figsize=(9,6))\n",
    "salary_currency_group = df[\"salary_currency\"].value_counts()\n",
    "plt.bar(height=salary_currency_group.values,x=salary_currency_group.index)\n",
    "plt.title(\"The salary currency distribution\",fontsize = 18, weight = 'bold')"
   ]
  },
  {
   "cell_type": "markdown",
   "id": "fbe4d13e",
   "metadata": {},
   "source": [
    "let us describe the numerical columns"
   ]
  },
  {
   "cell_type": "code",
   "execution_count": 6,
   "id": "299744cf",
   "metadata": {},
   "outputs": [
    {
     "data": {
      "text/html": [
       "<div>\n",
       "<style scoped>\n",
       "    .dataframe tbody tr th:only-of-type {\n",
       "        vertical-align: middle;\n",
       "    }\n",
       "\n",
       "    .dataframe tbody tr th {\n",
       "        vertical-align: top;\n",
       "    }\n",
       "\n",
       "    .dataframe thead th {\n",
       "        text-align: right;\n",
       "    }\n",
       "</style>\n",
       "<table border=\"1\" class=\"dataframe\">\n",
       "  <thead>\n",
       "    <tr style=\"text-align: right;\">\n",
       "      <th></th>\n",
       "      <th>Unnamed: 0</th>\n",
       "      <th>salary</th>\n",
       "    </tr>\n",
       "  </thead>\n",
       "  <tbody>\n",
       "    <tr>\n",
       "      <th>count</th>\n",
       "      <td>1171.000000</td>\n",
       "      <td>1171.000000</td>\n",
       "    </tr>\n",
       "    <tr>\n",
       "      <th>mean</th>\n",
       "      <td>931.620837</td>\n",
       "      <td>64836.037575</td>\n",
       "    </tr>\n",
       "    <tr>\n",
       "      <th>std</th>\n",
       "      <td>647.445266</td>\n",
       "      <td>32551.767046</td>\n",
       "    </tr>\n",
       "    <tr>\n",
       "      <th>min</th>\n",
       "      <td>0.000000</td>\n",
       "      <td>30000.000000</td>\n",
       "    </tr>\n",
       "    <tr>\n",
       "      <th>25%</th>\n",
       "      <td>364.500000</td>\n",
       "      <td>45000.000000</td>\n",
       "    </tr>\n",
       "    <tr>\n",
       "      <th>50%</th>\n",
       "      <td>815.000000</td>\n",
       "      <td>63000.000000</td>\n",
       "    </tr>\n",
       "    <tr>\n",
       "      <th>75%</th>\n",
       "      <td>1504.500000</td>\n",
       "      <td>68000.000000</td>\n",
       "    </tr>\n",
       "    <tr>\n",
       "      <th>max</th>\n",
       "      <td>2259.000000</td>\n",
       "      <td>228000.000000</td>\n",
       "    </tr>\n",
       "  </tbody>\n",
       "</table>\n",
       "</div>"
      ],
      "text/plain": [
       "        Unnamed: 0         salary\n",
       "count  1171.000000    1171.000000\n",
       "mean    931.620837   64836.037575\n",
       "std     647.445266   32551.767046\n",
       "min       0.000000   30000.000000\n",
       "25%     364.500000   45000.000000\n",
       "50%     815.000000   63000.000000\n",
       "75%    1504.500000   68000.000000\n",
       "max    2259.000000  228000.000000"
      ]
     },
     "execution_count": 6,
     "metadata": {},
     "output_type": "execute_result"
    }
   ],
   "source": [
    "df.describe()"
   ]
  },
  {
   "cell_type": "markdown",
   "id": "4161d98e",
   "metadata": {},
   "source": [
    "### Data Cleaning "
   ]
  },
  {
   "cell_type": "markdown",
   "id": "959a305e",
   "metadata": {},
   "source": [
    "We need to check what is the first column \"Unnamed: 0\" is it just an index column so we can drop it?"
   ]
  },
  {
   "cell_type": "code",
   "execution_count": 7,
   "id": "a820b476",
   "metadata": {},
   "outputs": [
    {
     "data": {
      "text/plain": [
       "True"
      ]
     },
     "execution_count": 7,
     "metadata": {},
     "output_type": "execute_result"
    }
   ],
   "source": [
    "df['Unnamed: 0'].is_unique"
   ]
  },
  {
   "cell_type": "code",
   "execution_count": 8,
   "id": "f47ea34b",
   "metadata": {},
   "outputs": [
    {
     "data": {
      "text/plain": [
       "0          0\n",
       "1          2\n",
       "2          3\n",
       "3          4\n",
       "4          5\n",
       "        ... \n",
       "1166    2243\n",
       "1167    2249\n",
       "1168    2250\n",
       "1169    2255\n",
       "1170    2259\n",
       "Name: Unnamed: 0, Length: 1171, dtype: int64"
      ]
     },
     "execution_count": 8,
     "metadata": {},
     "output_type": "execute_result"
    }
   ],
   "source": [
    "df['Unnamed: 0']"
   ]
  },
  {
   "cell_type": "markdown",
   "id": "e6de21ee",
   "metadata": {},
   "source": [
    "It seems to be an index column so we can drop it before complete our analysis"
   ]
  },
  {
   "cell_type": "code",
   "execution_count": 9,
   "id": "7cccb715",
   "metadata": {
    "scrolled": true
   },
   "outputs": [
    {
     "data": {
      "text/html": [
       "<div>\n",
       "<style scoped>\n",
       "    .dataframe tbody tr th:only-of-type {\n",
       "        vertical-align: middle;\n",
       "    }\n",
       "\n",
       "    .dataframe tbody tr th {\n",
       "        vertical-align: top;\n",
       "    }\n",
       "\n",
       "    .dataframe thead th {\n",
       "        text-align: right;\n",
       "    }\n",
       "</style>\n",
       "<table border=\"1\" class=\"dataframe\">\n",
       "  <thead>\n",
       "    <tr style=\"text-align: right;\">\n",
       "      <th></th>\n",
       "      <th>job_title</th>\n",
       "      <th>job_type</th>\n",
       "      <th>experience_level</th>\n",
       "      <th>location</th>\n",
       "      <th>salary_currency</th>\n",
       "      <th>salary</th>\n",
       "    </tr>\n",
       "  </thead>\n",
       "  <tbody>\n",
       "    <tr>\n",
       "      <th>0</th>\n",
       "      <td>Data scientist</td>\n",
       "      <td>Full Time</td>\n",
       "      <td>Senior</td>\n",
       "      <td>New York City</td>\n",
       "      <td>USD</td>\n",
       "      <td>149000</td>\n",
       "    </tr>\n",
       "    <tr>\n",
       "      <th>1</th>\n",
       "      <td>Data scientist</td>\n",
       "      <td>Full Time</td>\n",
       "      <td>Senior</td>\n",
       "      <td>Boston</td>\n",
       "      <td>USD</td>\n",
       "      <td>120000</td>\n",
       "    </tr>\n",
       "    <tr>\n",
       "      <th>2</th>\n",
       "      <td>Data scientist</td>\n",
       "      <td>Full Time</td>\n",
       "      <td>Senior</td>\n",
       "      <td>London</td>\n",
       "      <td>USD</td>\n",
       "      <td>68000</td>\n",
       "    </tr>\n",
       "    <tr>\n",
       "      <th>3</th>\n",
       "      <td>Data scientist</td>\n",
       "      <td>Full Time</td>\n",
       "      <td>Senior</td>\n",
       "      <td>Boston</td>\n",
       "      <td>USD</td>\n",
       "      <td>120000</td>\n",
       "    </tr>\n",
       "    <tr>\n",
       "      <th>4</th>\n",
       "      <td>Data scientist</td>\n",
       "      <td>Full Time</td>\n",
       "      <td>Senior</td>\n",
       "      <td>New York City</td>\n",
       "      <td>USD</td>\n",
       "      <td>149000</td>\n",
       "    </tr>\n",
       "  </tbody>\n",
       "</table>\n",
       "</div>"
      ],
      "text/plain": [
       "        job_title   job_type experience_level       location salary_currency  \\\n",
       "0  Data scientist  Full Time           Senior  New York City             USD   \n",
       "1  Data scientist  Full Time           Senior         Boston             USD   \n",
       "2  Data scientist  Full Time           Senior         London             USD   \n",
       "3  Data scientist  Full Time           Senior         Boston             USD   \n",
       "4  Data scientist  Full Time           Senior  New York City             USD   \n",
       "\n",
       "   salary  \n",
       "0  149000  \n",
       "1  120000  \n",
       "2   68000  \n",
       "3  120000  \n",
       "4  149000  "
      ]
     },
     "execution_count": 9,
     "metadata": {},
     "output_type": "execute_result"
    }
   ],
   "source": [
    "df = df.drop('Unnamed: 0', axis=1)\n",
    "df.head()"
   ]
  },
  {
   "cell_type": "markdown",
   "id": "2749950f",
   "metadata": {},
   "source": [
    "### Business Understanding \n",
    "Q1: What are the available data science job titles? what are the most frequent job title?\n",
    "\n",
    "Q2: What are the top three positions in terms of highest average salary?\n",
    "\n",
    "\n",
    "Q3: Where can juniors (entry level) find a job with highest possible salary based on their little experience?\n"
   ]
  },
  {
   "cell_type": "markdown",
   "id": "ab5135cb",
   "metadata": {},
   "source": [
    "### Results "
   ]
  },
  {
   "cell_type": "markdown",
   "id": "dad71c64",
   "metadata": {},
   "source": [
    "### Q1: What are the available data science job titles? what are the most frequent job title?\n"
   ]
  },
  {
   "cell_type": "code",
   "execution_count": 21,
   "id": "7840f56b",
   "metadata": {
    "scrolled": true
   },
   "outputs": [
    {
     "name": "stdout",
     "output_type": "stream",
     "text": [
      "Data scientist      394\n",
      "Data analyst        368\n",
      "Machine learning    289\n",
      "Big data            101\n",
      "ML Ops               19\n",
      "Name: job_title, dtype: int64\n"
     ]
    },
    {
     "data": {
      "text/plain": [
       "Text(0.5, 1.0, 'The job title distribution')"
      ]
     },
     "execution_count": 21,
     "metadata": {},
     "output_type": "execute_result"
    },
    {
     "data": {
      "image/png": "[encoded data removed]",
      "text/plain": [
       "<Figure size 648x432 with 1 Axes>"
      ]
     },
     "metadata": {},
     "output_type": "display_data"
    }
   ],
   "source": [
    "#let us see see the job titles distribution  \n",
    "plt.figure(figsize=(9,6))\n",
    "title_group = df[\"job_title\"].value_counts()\n",
    "print(title_group)\n",
    "plt.pie(title_group.values, autopct='%1.1f%%',labels=title_group.index,textprops={'fontsize': 14})\n",
    "plt.title(\"The job title distribution\",fontsize = 18, weight = 'bold')"
   ]
  },
  {
   "cell_type": "markdown",
   "id": "99aeaa86",
   "metadata": {},
   "source": [
    "We noticed that there are some job titles options for any one who prefers to break into the data science related field. So they may choose to build your specialized experience in one of the following positions:  \n",
    "-Data scientist      \n",
    "-Data analyst       \n",
    "-Machine learning    \n",
    "-Big data            \n",
    "-ML Ops\n",
    "\n",
    "Based on the distribution figure shown above, the job title with highest distribution proportion is Data Scientist, however Data Analyst has a quite similar proportion of the distribution"
   ]
  },
  {
   "cell_type": "markdown",
   "id": "fc07831e",
   "metadata": {},
   "source": [
    "### Q2: What are the top three positions in terms of highest average salary?"
   ]
  },
  {
   "cell_type": "markdown",
   "id": "a005390a",
   "metadata": {},
   "source": [
    "In order to compare salaries for each job title, we have to convert them into one unique currency so we get a fair comparison.\n",
    "As we have seen above in the \"The salary currency distribution\" figure, USD is the most frequent used currency and the other two currencies are very rare, so we can easily unify the currency column to \"USD\" by do some currency conversions \n",
    "\n",
    "1 EUR = 1.06 USD\n",
    "\n",
    "1 GBP = 1.2 USD\n",
    "\n",
    "This can be considered as data preprocessing step"
   ]
  },
  {
   "cell_type": "code",
   "execution_count": 22,
   "id": "12810631",
   "metadata": {},
   "outputs": [],
   "source": [
    "def convert_to_usd(row):\n",
    "    if row.salary_currency == 'EUR':\n",
    "        row.salary = row.salary * 1.06\n",
    "    elif row.salary_currency == 'GBP':\n",
    "        row.salary = row.salary * 1.2\n",
    "    row.salary_currency = 'USD'\n",
    "    return row\n",
    "\n",
    "df = df.apply(convert_to_usd, axis=1)"
   ]
  },
  {
   "cell_type": "code",
   "execution_count": 23,
   "id": "c6d4a647",
   "metadata": {},
   "outputs": [
    {
     "data": {
      "text/plain": [
       "array(['USD'], dtype=object)"
      ]
     },
     "execution_count": 23,
     "metadata": {},
     "output_type": "execute_result"
    }
   ],
   "source": [
    "# let us check the values of salary currency, they should be all 'USD'\n",
    "df.salary_currency.unique()"
   ]
  },
  {
   "cell_type": "code",
   "execution_count": 24,
   "id": "f7f2bf55",
   "metadata": {},
   "outputs": [
    {
     "data": {
      "text/html": [
       "<div>\n",
       "<style scoped>\n",
       "    .dataframe tbody tr th:only-of-type {\n",
       "        vertical-align: middle;\n",
       "    }\n",
       "\n",
       "    .dataframe tbody tr th {\n",
       "        vertical-align: top;\n",
       "    }\n",
       "\n",
       "    .dataframe thead th {\n",
       "        text-align: right;\n",
       "    }\n",
       "</style>\n",
       "<table border=\"1\" class=\"dataframe\">\n",
       "  <thead>\n",
       "    <tr style=\"text-align: right;\">\n",
       "      <th></th>\n",
       "      <th>job_title</th>\n",
       "      <th>job_type</th>\n",
       "      <th>experience_level</th>\n",
       "      <th>location</th>\n",
       "      <th>salary_in_usd</th>\n",
       "    </tr>\n",
       "  </thead>\n",
       "  <tbody>\n",
       "    <tr>\n",
       "      <th>0</th>\n",
       "      <td>Data scientist</td>\n",
       "      <td>Full Time</td>\n",
       "      <td>Senior</td>\n",
       "      <td>New York City</td>\n",
       "      <td>149000.0</td>\n",
       "    </tr>\n",
       "    <tr>\n",
       "      <th>1</th>\n",
       "      <td>Data scientist</td>\n",
       "      <td>Full Time</td>\n",
       "      <td>Senior</td>\n",
       "      <td>Boston</td>\n",
       "      <td>120000.0</td>\n",
       "    </tr>\n",
       "    <tr>\n",
       "      <th>2</th>\n",
       "      <td>Data scientist</td>\n",
       "      <td>Full Time</td>\n",
       "      <td>Senior</td>\n",
       "      <td>London</td>\n",
       "      <td>68000.0</td>\n",
       "    </tr>\n",
       "    <tr>\n",
       "      <th>3</th>\n",
       "      <td>Data scientist</td>\n",
       "      <td>Full Time</td>\n",
       "      <td>Senior</td>\n",
       "      <td>Boston</td>\n",
       "      <td>120000.0</td>\n",
       "    </tr>\n",
       "    <tr>\n",
       "      <th>4</th>\n",
       "      <td>Data scientist</td>\n",
       "      <td>Full Time</td>\n",
       "      <td>Senior</td>\n",
       "      <td>New York City</td>\n",
       "      <td>149000.0</td>\n",
       "    </tr>\n",
       "    <tr>\n",
       "      <th>5</th>\n",
       "      <td>Data scientist</td>\n",
       "      <td>Full Time</td>\n",
       "      <td>Senior</td>\n",
       "      <td>London</td>\n",
       "      <td>68000.0</td>\n",
       "    </tr>\n",
       "    <tr>\n",
       "      <th>6</th>\n",
       "      <td>Data scientist</td>\n",
       "      <td>Full Time</td>\n",
       "      <td>Senior</td>\n",
       "      <td>Research Triangle Park</td>\n",
       "      <td>69000.0</td>\n",
       "    </tr>\n",
       "    <tr>\n",
       "      <th>7</th>\n",
       "      <td>Data scientist</td>\n",
       "      <td>Full Time</td>\n",
       "      <td>Senior</td>\n",
       "      <td>Sydney</td>\n",
       "      <td>68000.0</td>\n",
       "    </tr>\n",
       "    <tr>\n",
       "      <th>8</th>\n",
       "      <td>Data scientist</td>\n",
       "      <td>Full Time</td>\n",
       "      <td>Senior</td>\n",
       "      <td>San Francisco</td>\n",
       "      <td>140000.0</td>\n",
       "    </tr>\n",
       "    <tr>\n",
       "      <th>9</th>\n",
       "      <td>Data scientist</td>\n",
       "      <td>Full Time</td>\n",
       "      <td>Senior</td>\n",
       "      <td>Sofia</td>\n",
       "      <td>68000.0</td>\n",
       "    </tr>\n",
       "  </tbody>\n",
       "</table>\n",
       "</div>"
      ],
      "text/plain": [
       "        job_title   job_type experience_level                location  \\\n",
       "0  Data scientist  Full Time           Senior           New York City   \n",
       "1  Data scientist  Full Time           Senior                  Boston   \n",
       "2  Data scientist  Full Time           Senior                  London   \n",
       "3  Data scientist  Full Time           Senior                  Boston   \n",
       "4  Data scientist  Full Time           Senior           New York City   \n",
       "5  Data scientist  Full Time           Senior                  London   \n",
       "6  Data scientist  Full Time           Senior  Research Triangle Park   \n",
       "7  Data scientist  Full Time           Senior                  Sydney   \n",
       "8  Data scientist  Full Time           Senior           San Francisco   \n",
       "9  Data scientist  Full Time           Senior                   Sofia   \n",
       "\n",
       "   salary_in_usd  \n",
       "0       149000.0  \n",
       "1       120000.0  \n",
       "2        68000.0  \n",
       "3       120000.0  \n",
       "4       149000.0  \n",
       "5        68000.0  \n",
       "6        69000.0  \n",
       "7        68000.0  \n",
       "8       140000.0  \n",
       "9        68000.0  "
      ]
     },
     "execution_count": 24,
     "metadata": {},
     "output_type": "execute_result"
    }
   ],
   "source": [
    "# Since the salary_currency column has no variations, we can simply drop it and re-name the salary column to salary_in_usd\n",
    "df.drop(columns = 'salary_currency', inplace = True)\n",
    "df.rename(columns = {'salary':'salary_in_usd'}, inplace = True)\n",
    "df.head(10)"
   ]
  },
  {
   "cell_type": "code",
   "execution_count": 25,
   "id": "dc94960c",
   "metadata": {},
   "outputs": [
    {
     "data": {
      "text/plain": [
       "Text(0.5, 1.0, 'The average salary of data science jobs')"
      ]
     },
     "execution_count": 25,
     "metadata": {},
     "output_type": "execute_result"
    },
    {
     "data": {
      "image/png": "[encoded data removed]",
      "text/plain": [
       "<Figure size 648x432 with 1 Axes>"
      ]
     },
     "metadata": {
      "needs_background": "light"
     },
     "output_type": "display_data"
    }
   ],
   "source": [
    "plt.figure(figsize=(9,6))\n",
    "salary_mean_group = df.groupby('job_title')[\"salary_in_usd\"].mean()\n",
    "x = salary_mean_group.index\n",
    "y = salary_mean_group.values.astype(int)\n",
    "plt.bar(height=y,x= x)\n",
    "for i in range(len(x)):\n",
    "        plt.text(i, y[i], y[i], ha = 'center',fontsize = 12)\n",
    "  \n",
    "plt.title(\"The average salary of data science jobs\",fontsize = 18)"
   ]
  },
  {
   "cell_type": "markdown",
   "id": "c9fd875c",
   "metadata": {},
   "source": [
    "it is clear to notice that ML Ops positions have the highest average salary of around 81000 USD, followed by Machine learning positions and Data scientists with approximately 68000 and 67000 USD respectively."
   ]
  },
  {
   "cell_type": "markdown",
   "id": "b1870e60",
   "metadata": {},
   "source": [
    "### Q3: Where can juniors (entry level) find a job with highest possible salary based on their little experience?"
   ]
  },
  {
   "cell_type": "code",
   "execution_count": 41,
   "id": "50a6b0c9",
   "metadata": {},
   "outputs": [
    {
     "name": "stdout",
     "output_type": "stream",
     "text": [
      "Number of juniors (entry level) in the data is 126\n"
     ]
    }
   ],
   "source": [
    "print(\"Number of juniors (entry level) in the data is %d\"%len(df[df.experience_level=='Entry']))"
   ]
  },
  {
   "cell_type": "code",
   "execution_count": 42,
   "id": "b4fff069",
   "metadata": {},
   "outputs": [
    {
     "data": {
      "text/html": [
       "<div>\n",
       "<style scoped>\n",
       "    .dataframe tbody tr th:only-of-type {\n",
       "        vertical-align: middle;\n",
       "    }\n",
       "\n",
       "    .dataframe tbody tr th {\n",
       "        vertical-align: top;\n",
       "    }\n",
       "\n",
       "    .dataframe thead th {\n",
       "        text-align: right;\n",
       "    }\n",
       "</style>\n",
       "<table border=\"1\" class=\"dataframe\">\n",
       "  <thead>\n",
       "    <tr style=\"text-align: right;\">\n",
       "      <th></th>\n",
       "      <th>location</th>\n",
       "      <th>salary_in_usd</th>\n",
       "    </tr>\n",
       "  </thead>\n",
       "  <tbody>\n",
       "    <tr>\n",
       "      <th>65</th>\n",
       "      <td>San Francisco</td>\n",
       "      <td>140000.0</td>\n",
       "    </tr>\n",
       "    <tr>\n",
       "      <th>17</th>\n",
       "      <td>Calabasas</td>\n",
       "      <td>120000.0</td>\n",
       "    </tr>\n",
       "    <tr>\n",
       "      <th>57</th>\n",
       "      <td>Princeton</td>\n",
       "      <td>74000.0</td>\n",
       "    </tr>\n",
       "    <tr>\n",
       "      <th>64</th>\n",
       "      <td>San Diego</td>\n",
       "      <td>58000.0</td>\n",
       "    </tr>\n",
       "    <tr>\n",
       "      <th>61</th>\n",
       "      <td>Roppongi</td>\n",
       "      <td>56000.0</td>\n",
       "    </tr>\n",
       "    <tr>\n",
       "      <th>42</th>\n",
       "      <td>Mountain View</td>\n",
       "      <td>56000.0</td>\n",
       "    </tr>\n",
       "    <tr>\n",
       "      <th>47</th>\n",
       "      <td>North Reading</td>\n",
       "      <td>56000.0</td>\n",
       "    </tr>\n",
       "    <tr>\n",
       "      <th>68</th>\n",
       "      <td>Sarasota</td>\n",
       "      <td>48000.0</td>\n",
       "    </tr>\n",
       "    <tr>\n",
       "      <th>36</th>\n",
       "      <td>Massy - France</td>\n",
       "      <td>36000.0</td>\n",
       "    </tr>\n",
       "    <tr>\n",
       "      <th>46</th>\n",
       "      <td>Norfolk</td>\n",
       "      <td>36000.0</td>\n",
       "    </tr>\n",
       "  </tbody>\n",
       "</table>\n",
       "</div>"
      ],
      "text/plain": [
       "          location  salary_in_usd\n",
       "65   San Francisco       140000.0\n",
       "17       Calabasas       120000.0\n",
       "57       Princeton        74000.0\n",
       "64       San Diego        58000.0\n",
       "61        Roppongi        56000.0\n",
       "42   Mountain View        56000.0\n",
       "47   North Reading        56000.0\n",
       "68        Sarasota        48000.0\n",
       "36  Massy - France        36000.0\n",
       "46         Norfolk        36000.0"
      ]
     },
     "execution_count": 42,
     "metadata": {},
     "output_type": "execute_result"
    }
   ],
   "source": [
    "grouped = df[df.experience_level=='Entry'].groupby('location').salary_in_usd.mean().reset_index()\n",
    "grouped.sort_values('salary_in_usd', ascending=False).head(10)\n"
   ]
  },
  {
   "cell_type": "code",
   "execution_count": 38,
   "id": "1592ce9d",
   "metadata": {},
   "outputs": [
    {
     "data": {
      "text/plain": [
       "Text(0.5, 1.0, 'Location based junior average salaries')"
      ]
     },
     "execution_count": 38,
     "metadata": {},
     "output_type": "execute_result"
    },
    {
     "data": {
      "image/png": "[encoded data removed]",
      "text/plain": [
       "<Figure size 648x432 with 1 Axes>"
      ]
     },
     "metadata": {
      "needs_background": "light"
     },
     "output_type": "display_data"
    }
   ],
   "source": [
    "plt.figure(figsize=(9,6))\n",
    "plt.xticks(\n",
    "    rotation=75, \n",
    "    horizontalalignment='right',\n",
    "    fontweight='light',fontsize = 14)\n",
    "x = grouped.sort_values('salary_in_usd', ascending=False).location.head(10)\n",
    "y = grouped.sort_values('salary_in_usd', ascending=False).salary_in_usd.head(10)\n",
    "\n",
    "plt.bar(height= y, x= x)\n",
    "plt.title(\"Location based junior average salaries\",fontsize = 18)"
   ]
  },
  {
   "cell_type": "markdown",
   "id": "d02df5b1",
   "metadata": {},
   "source": [
    "It is clear that San Francisco, Calabasas, and Princeton are the top three job locations in terms of the highest average salary."
   ]
  },
  {
   "cell_type": "code",
   "execution_count": null,
   "id": "6d820c2d",
   "metadata": {},
   "outputs": [],
   "source": []
  }
 ],
 "metadata": {
  "kernelspec": {
   "display_name": "Python 3",
   "language": "python",
   "name": "python3"
  },
  "language_info": {
   "codemirror_mode": {
    "name": "ipython",
    "version": 3
   },
   "file_extension": ".py",
   "mimetype": "text/x-python",
   "name": "python",
   "nbconvert_exporter": "python",
   "pygments_lexer": "ipython3",
   "version": "3.8.8"
  }
 },
 "nbformat": 4,
 "nbformat_minor": 5
}
